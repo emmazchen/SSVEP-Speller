{
  "nbformat": 4,
  "nbformat_minor": 0,
  "metadata": {
    "colab": {
      "provenance": [],
      "include_colab_link": true
    },
    "kernelspec": {
      "name": "python3",
      "display_name": "Python 3"
    },
    "language_info": {
      "name": "python"
    }
  },
  "cells": [
    {
      "cell_type": "markdown",
      "metadata": {
        "id": "view-in-github",
        "colab_type": "text"
      },
      "source": [
        "<a href=\"https://colab.research.google.com/github/emmazchen/SSVEP-Speller/blob/main/filteredCCA.ipynb\" target=\"_parent\"><img src=\"https://colab.research.google.com/assets/colab-badge.svg\" alt=\"Open In Colab\"/></a>"
      ]
    },
    {
      "cell_type": "markdown",
      "source": [
        "# Simple CCA Classifier on SSVEP Data (GG)"
      ],
      "metadata": {
        "id": "uxh8BUBYnAIV"
      }
    },
    {
      "cell_type": "code",
      "source": [
        "!git clone -b MatheuBranch https://github.com/Neurotech-X-Columbia/Data.git"
      ],
      "metadata": {
        "colab": {
          "base_uri": "https://localhost:8080/"
        },
        "id": "W96nqReZpzg0",
        "outputId": "e51677c6-2161-4d2d-c650-746039d3c399"
      },
      "execution_count": null,
      "outputs": [
        {
          "output_type": "stream",
          "name": "stdout",
          "text": [
            "Cloning into 'Data'...\n",
            "remote: Enumerating objects: 4382, done.\u001b[K\n",
            "remote: Counting objects: 100% (484/484), done.\u001b[K\n",
            "remote: Compressing objects: 100% (371/371), done.\u001b[K\n",
            "remote: Total 4382 (delta 121), reused 472 (delta 110), pack-reused 3898\u001b[K\n",
            "Receiving objects: 100% (4382/4382), 307.15 MiB | 24.13 MiB/s, done.\n",
            "Resolving deltas: 100% (136/136), done.\n",
            "Checking out files: 100% (297/297), done.\n"
          ]
        }
      ]
    },
    {
      "cell_type": "code",
      "source": [
        "import pandas as pd \n",
        "df = pd.read_csv('Data/SSVEP/Unity GUI 0.1/JE2/BottomLeft/64sec_1_18-34-41.csv')\n",
        "df.shape\n",
        "\n",
        "#avg ch 15 and 16, full avg and then moving avg if it doesn't work\n",
        "#apply cca with two channels\n",
        "#don't fold time dimension\n",
        "#avg across trials, don't avg across subjects"
      ],
      "metadata": {
        "colab": {
          "base_uri": "https://localhost:8080/"
        },
        "id": "HhT7eQjYq8nK",
        "outputId": "0e73f6e8-95c6-46c2-a810-749a7c5189d4"
      },
      "execution_count": null,
      "outputs": [
        {
          "output_type": "execute_result",
          "data": {
            "text/plain": [
              "(16, 8001)"
            ]
          },
          "metadata": {},
          "execution_count": 29
        }
      ]
    },
    {
      "cell_type": "code",
      "source": [
        "from scipy import signal"
      ],
      "metadata": {
        "id": "VXwaSeHcrov0"
      },
      "execution_count": null,
      "outputs": []
    },
    {
      "cell_type": "code",
      "source": [
        "num_chans = 16\n",
        "fs = 125\n",
        "notch_f = 60 #was 60\n",
        "Q_factor = 30 #was 30\n",
        "lp_f = 2\n",
        "iir_hp_2 = signal.iirfilter(2, 2. / fs, btype='highpass')\n",
        "a, b = signal.iirnotch(notch_f, Q_factor, fs)"
      ],
      "metadata": {
        "id": "Hct2oOfsrr9d"
      },
      "execution_count": null,
      "outputs": []
    },
    {
      "cell_type": "code",
      "source": [
        "def filtering(d):\n",
        "    filtered_sig = signal.filtfilt(iir_hp_2[0], iir_hp_2[1], d, padlen=0)\n",
        "    filtnnotch_sig = signal.filtfilt(a, b, filtered_sig, padlen=0)\n",
        "    return filtnnotch_sig"
      ],
      "metadata": {
        "id": "dTU5dcYZrurW"
      },
      "execution_count": null,
      "outputs": []
    },
    {
      "cell_type": "code",
      "source": [
        "import numpy as np\n",
        "from sklearn.cross_decomposition import CCA\n",
        "import pandas as pd\n",
        "\n",
        "# Code for CCAAnalysis taken from https://github.com/Mentalab-hub/explorepy/blob/master/examples/ssvep_demo/analysis.py\n",
        "class CCAAnalysis:\n",
        "    \"\"\"Canonical Correlation Analysis for SSVEP paradigm\"\"\"\n",
        "    def __init__(self, freqs, win_len, s_rate, n_harmonics=1):\n",
        "        \"\"\"\n",
        "        Args:\n",
        "            freqs (list): List of target frequencies\n",
        "            win_len (float): Window length\n",
        "            s_rate (int): Sampling rate of EEG signal\n",
        "            n_harmonics (int): Number of harmonics to be considered\n",
        "        \"\"\"\n",
        "        self.freqs = freqs\n",
        "        self.win_len = win_len\n",
        "        self.s_rate = s_rate\n",
        "        self.n_harmonics = n_harmonics\n",
        "        self.train_data = self._init_train_data()\n",
        "        self.cca = CCA(n_components=1)\n",
        "\n",
        "    def _init_train_data(self):\n",
        "        t_vec = np.linspace(0, self.win_len, int(self.s_rate * self.win_len))\n",
        "        targets = {}\n",
        "        for freq in self.freqs:\n",
        "            sig_sin, sig_cos = [], []\n",
        "            for harmonics in range(self.n_harmonics):\n",
        "                sig_sin.append(np.sin(2 * np.pi * harmonics * freq * t_vec))\n",
        "                sig_cos.append(np.cos(2 * np.pi * harmonics * freq * t_vec))\n",
        "            targets[freq] = np.array(sig_sin + sig_cos).T\n",
        "        return targets\n",
        "\n",
        "\n",
        "    def apply_cca(self, eeg):\n",
        "        \"\"\"Apply CCA analysis to EEG data and return scores for each target frequency\n",
        "\n",
        "        Args:\n",
        "            eeg (np.array): EEG array [n_samples, n_chan]\n",
        "\n",
        "        Returns:\n",
        "            list of scores for target frequencies\n",
        "        \"\"\"\n",
        "        scores = []\n",
        "        for key in self.train_data:\n",
        "            sig_c, t_c = self.cca.fit_transform(eeg, self.train_data[key])\n",
        "            scores.append(np.corrcoef(sig_c.T, t_c.T)[0, 1])\n",
        "        return scores\n",
        "\n",
        "# Main method edited, with specific data\n",
        "if __name__ == '__main__':\n",
        "    freqs = [8, 10, 15, 18, 22] # twice the stimulation frequencies COM 1,2,3,4,5\n",
        "    t_len = 2 # 2 second window\n",
        "    s_rate = 125\n",
        "    #t_vec = np.linspace(0, t_len, s_rate * t_len)\n",
        "\n",
        "    class_names = ['TopLeft', 'TopRight', 'BottomLeft', 'BottomMiddle', 'BottomRight']\n",
        "\n",
        "    # Reading one trial from each stimulus for GG subject\n",
        "    fnames = ['Data/SSVEP/Unity GUI 0.1/JE2/' + i + '/64sec_3.csv' for i in class_names]\n",
        "    dfs = [pd.read_csv(name) for name in fnames]\n",
        "\n",
        "    for i,df in enumerate(dfs):\n",
        "        # test_sig = np.sin(2 * np.pi * 10 * t_vec) + 0.05 * np.random.rand(len(t_vec))\n",
        "        # Looking at channel 15, with a 2 second window 251:501 which is 250 datapoints\n",
        "        test_sig = filtering(np.array(list(df.loc[14,:])[251:1251])) #3 segments\n",
        "        cca_analysis = CCAAnalysis(freqs=freqs, win_len=t_len, s_rate=s_rate, n_harmonics=2)\n",
        "        r1 = cca_analysis.apply_cca(np.array(test_sig[0:250])[:, np.newaxis]) \n",
        "        r2 = cca_analysis.apply_cca(np.array(test_sig[250:500])[:, np.newaxis]) \n",
        "        r3 = cca_analysis.apply_cca(np.array(test_sig[500:750])[:, np.newaxis])\n",
        "        r4 = cca_analysis.apply_cca(np.array(test_sig[750:1000])[:, np.newaxis])\n",
        "\n",
        "        # Printing the max correlation coefficient across all stimulus frequencies, the Command Number (1-5), the Predicted Stimulus Frequency (highest correlated) from CCA, The Actual Stimulus that was tested \n",
        "        print(np.max(r1), '  Pred:', np.argmax(r1)+1, np.argmax(r2)+1, np.argmax(r3)+1, np.argmax(r4)+1, class_names[np.argmax(r1)], freqs[np.argmax(r1)], '           Actual:', i+1, class_names[i], freqs[i],   \"           correct?\", i==np.argmax(r1))\n"
      ],
      "metadata": {
        "colab": {
          "base_uri": "https://localhost:8080/"
        },
        "id": "A8cr5aBNssWs",
        "outputId": "807633c6-a6e1-4251-f524-ac62c6547aed"
      },
      "execution_count": null,
      "outputs": [
        {
          "output_type": "stream",
          "name": "stdout",
          "text": [
            "0.023800428131054215   Pred: 2 1 5 3 TopRight 20            Actual: 1 TopLeft 16            correct? False\n",
            "0.047229967196901174   Pred: 3 2 1 1 BottomLeft 30            Actual: 2 TopRight 20            correct? False\n",
            "0.08363553808654446   Pred: 2 1 1 2 TopRight 20            Actual: 3 BottomLeft 30            correct? False\n",
            "0.05173002117630312   Pred: 2 1 1 1 TopRight 20            Actual: 4 BottomMiddle 36            correct? False\n",
            "0.03375419190257397   Pred: 5 2 1 3 BottomRight 44            Actual: 5 BottomRight 44            correct? True\n"
          ]
        }
      ]
    },
    {
      "cell_type": "code",
      "source": [
        "    def _avg_train_data(self):\n",
        "        t_vec = np.linspace(0, self.win_len, int(self.s_rate * self.win_len))\n",
        "        targets = {}\n",
        "        for freq in self.freqs:\n",
        "            sig_sin, sig_cos = [], []\n",
        "            for harmonics in range(self.n_harmonics):\n",
        "                sig_sin.append(np.sin(2 * np.pi * harmonics * freq * t_vec))\n",
        "                sig_cos.append(np.cos(2 * np.pi * harmonics * freq * t_vec))\n",
        "            targets[freq] = np.array(sig_sin + sig_cos).T\n",
        "        return targets"
      ],
      "metadata": {
        "id": "swXtVfZBxlUf"
      },
      "execution_count": null,
      "outputs": []
    }
  ]
}